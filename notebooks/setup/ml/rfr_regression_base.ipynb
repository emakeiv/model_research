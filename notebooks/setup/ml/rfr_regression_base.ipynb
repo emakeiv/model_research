{
 "cells": [
  {
   "cell_type": "code",
   "execution_count": 1,
   "metadata": {},
   "outputs": [],
   "source": [
    "import os\n",
    "import numpy as np\n",
    "\n",
    "from sklearn import metrics\n",
    "from sklearn.preprocessing import StandardScaler\n",
    "from sklearn.ensemble import RandomForestRegressor\n",
    "from sklearn.model_selection import train_test_split"
   ]
  },
  {
   "cell_type": "code",
   "execution_count": 2,
   "metadata": {},
   "outputs": [],
   "source": [
    "class RFRBaseModel():\n",
    "\n",
    "    def __init__(self, params={}):\n",
    "        self._params = params\n",
    "        self._rf = RandomForestRegressor(**params)\n",
    "\n",
    "    @classmethod\n",
    "    def new_instance(cls, params={}):\n",
    "        return cls(params)\n",
    "\n",
    "    @property \n",
    "    def model(self):\n",
    "        return self._rf\n",
    "\n",
    "    @property\n",
    "    def params(self):\n",
    "      return self._params\n",
    "    \n",
    "    @property\n",
    "    def metrics(self):\n",
    "        return self._metrics\n",
    "\n",
    "    def fit(self, X,y, r_name=\"lab-1.0: baseline model\"):\n",
    "\n",
    "        X_train, X_test, y_train, y_test = train_test_split(X, y)\n",
    "        \n",
    "        self._rf.fit(X_train, y_train)\n",
    "        predictions = self.predict(X_test)\n",
    "        self._metrics = {\n",
    "            'mae'  : metrics.mean_absolute_error(y_test, predictions),\n",
    "            'rmse' : np.sqrt(metrics.mean_squared_error(y_test, predictions)),\n",
    "            'r2'   : metrics.r2_score(y_test, predictions)\n",
    "        }\n",
    "\n",
    "    def predict(self, X):\n",
    "        return self._rf.predict(X)\n"
   ]
  },
  {
   "cell_type": "code",
   "execution_count": null,
   "metadata": {},
   "outputs": [],
   "source": [
    "class RFFExperimentModel(RFRBaseModel):\n",
    "    \"\"\"\n",
    "    Constructor for the Experimental RandomForestRegressor.\n",
    "    \"\"\"\n",
    "    def __int__(self, params):\n",
    "\n",
    "        super(RFRBaseModel, self).__init__(params)\n",
    "\n",
    "    def run(self, df, r_name=\"lab-1.0: experiment model\"):\n",
    "        pass"
   ]
  }
 ],
 "metadata": {
  "kernelspec": {
   "display_name": "Python 3.11.4 ('model_research-Bgrfm2OI')",
   "language": "python",
   "name": "python3"
  },
  "language_info": {
   "codemirror_mode": {
    "name": "ipython",
    "version": 3
   },
   "file_extension": ".py",
   "mimetype": "text/x-python",
   "name": "python",
   "nbconvert_exporter": "python",
   "pygments_lexer": "ipython3",
   "version": "3.11.4"
  },
  "orig_nbformat": 4,
  "vscode": {
   "interpreter": {
    "hash": "f8993d69323711695dc696b686f1bb69817fd0237074d2c32a437a639717ce00"
   }
  }
 },
 "nbformat": 4,
 "nbformat_minor": 2
}
